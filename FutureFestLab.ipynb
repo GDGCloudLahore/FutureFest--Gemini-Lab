{
  "nbformat": 4,
  "nbformat_minor": 0,
  "metadata": {
    "colab": {
      "provenance": [],
      "toc_visible": true
    },
    "kernelspec": {
      "name": "python3",
      "display_name": "Python 3"
    },
    "language_info": {
      "name": "python"
    }
  },
  "cells": [
    {
      "cell_type": "code",
      "execution_count": 4,
      "metadata": {
        "colab": {
          "base_uri": "https://localhost:8080/",
          "height": 412
        },
        "id": "YBmH9018_FvE",
        "outputId": "7faf762d-5776-498a-de9a-000cf178553b"
      },
      "outputs": [
        {
          "output_type": "stream",
          "name": "stdout",
          "text": [
            "Future Fest is an annual technology and innovation festival held in San Francisco, California. It brings together leaders from the tech industry, startups, investors, and the public to explore the latest trends and developments in technology and how they will shape the future.\n",
            "\n",
            "The festival features a variety of events, including:\n",
            "\n",
            "* Keynote speeches from leading technology experts and innovators\n",
            "* Panel discussions on the latest trends in technology and innovation\n",
            "* Workshops and demos on new technologies and products\n",
            "* Networking opportunities for attendees to connect with each other and learn from each other\n",
            "* A startup pitch competition\n",
            "\n",
            "Future Fest is a great opportunity to learn about the latest advances in technology, meet with other people who are passionate about technology, and get inspired to create new and innovative products and services.\n",
            "\n",
            "Here are some of the highlights of Future Fest:\n",
            "\n",
            "* **Keynote speakers:** Past keynote speakers have included Elon Musk, Mark Zuckerberg, and Sundar Pichai.\n",
            "* **Panel discussions:** Panel discussions cover a wide range of topics, including artificial intelligence, machine learning, blockchain, and the future of work.\n",
            "* **Workshops and demos:** Workshops and demos provide attendees with hands-on experience with new technologies and products.\n",
            "* **Networking opportunities:** Future Fest is a great place to meet with other people who are passionate about technology. There are numerous opportunities to network with attendees, including at the opening party, the Startup Expo, and the closing reception.\n",
            "* **Startup pitch competition:** The Startup Pitch Competition is a great opportunity for startups to showcase their products and services to a panel of investors and industry experts.\n",
            "\n",
            "Future Fest is a must-attend event for anyone who is interested in technology and innovation. It is a great opportunity to learn about the latest trends, meet with other people who are passionate about technology, and get inspired to create new and innovative products and services.\n"
          ]
        }
      ],
      "source": [
        "import google.generativeai as genai\n",
        "from google.colab import userdata\n",
        "\n",
        "# copy and paste your apikey\n",
        "# use this link for geminiapi https://makersuite.google.com/app/apikey\n",
        "api_key=userdata.get('API_KEY')\n",
        "genai.configure(api_key=api_key)\n",
        "\n",
        "# Set up the model\n",
        "generation_config = {\n",
        "  \"temperature\": 0.9,\n",
        "  \"top_p\": 1,\n",
        "  \"top_k\": 1,\n",
        "  \"max_output_tokens\": 2048,\n",
        "}\n",
        "\n",
        "safety_settings = [\n",
        "  {\n",
        "    \"category\": \"HARM_CATEGORY_HARASSMENT\",\n",
        "    \"threshold\": \"BLOCK_MEDIUM_AND_ABOVE\"\n",
        "  },\n",
        "  {\n",
        "    \"category\": \"HARM_CATEGORY_HATE_SPEECH\",\n",
        "    \"threshold\": \"BLOCK_MEDIUM_AND_ABOVE\"\n",
        "  },\n",
        "  {\n",
        "    \"category\": \"HARM_CATEGORY_SEXUALLY_EXPLICIT\",\n",
        "    \"threshold\": \"BLOCK_MEDIUM_AND_ABOVE\"\n",
        "  },\n",
        "  {\n",
        "    \"category\": \"HARM_CATEGORY_DANGEROUS_CONTENT\",\n",
        "    \"threshold\": \"BLOCK_MEDIUM_AND_ABOVE\"\n",
        "  }\n",
        "]\n",
        "\n",
        "model = genai.GenerativeModel(model_name=\"gemini-pro\",\n",
        "                              generation_config=generation_config,\n",
        "                              safety_settings=safety_settings)\n",
        "\n",
        "prompt_parts = [\n",
        "  \"Tell me about Future Fest\",\n",
        "]\n",
        "\n",
        "response = model.generate_content(prompt_parts)\n",
        "print(response.text)"
      ]
    }
  ]
}